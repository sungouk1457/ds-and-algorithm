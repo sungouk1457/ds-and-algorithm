{
 "cells": [
  {
   "cell_type": "code",
   "execution_count": 1,
   "metadata": {},
   "outputs": [],
   "source": [
    "#file:ds02_syntax.ipynb\n",
    "#dsec:파이썬 기초 복습"
   ]
  },
  {
   "cell_type": "markdown",
   "metadata": {},
   "source": [
    "## 자료구조와 알고리즘\n",
    "\n",
    "- 파이썬 기초문법 복습\n",
    "\n",
    "### 1. 리스트 컨프리헨션(함축)"
   ]
  },
  {
   "cell_type": "code",
   "execution_count": 3,
   "metadata": {},
   "outputs": [
    {
     "data": {
      "text/plain": [
       "[1, 2, 3, 4, 5]"
      ]
     },
     "execution_count": 3,
     "metadata": {},
     "output_type": "execute_result"
    }
   ],
   "source": [
    "nums = []\n",
    "for i in range(1,6):  #1,2,3,4,5  반복문으로 \n",
    "    nums.append(i)\n",
    "\n",
    "nums"
   ]
  },
  {
   "cell_type": "code",
   "execution_count": 6,
   "metadata": {},
   "outputs": [
    {
     "data": {
      "text/plain": [
       "[1, 2, 3, 4, 5]"
      ]
     },
     "execution_count": 6,
     "metadata": {},
     "output_type": "execute_result"
    }
   ],
   "source": [
    "nums = list(range(1,6)) # 클래스로 생성\n",
    "nums"
   ]
  },
  {
   "cell_type": "code",
   "execution_count": 7,
   "metadata": {},
   "outputs": [
    {
     "data": {
      "text/plain": [
       "[1, 2, 3, 4, 5]"
      ]
     },
     "execution_count": 7,
     "metadata": {},
     "output_type": "execute_result"
    }
   ],
   "source": [
    "nums = [i for i in range(1,6)] # 리스트 함축\n",
    "nums"
   ]
  },
  {
   "cell_type": "code",
   "execution_count": 8,
   "metadata": {},
   "outputs": [
    {
     "data": {
      "text/plain": [
       "[1, 4, 9, 16, 25]"
      ]
     },
     "execution_count": 8,
     "metadata": {},
     "output_type": "execute_result"
    }
   ],
   "source": [
    "nums = []\n",
    "for i in range(1,6):\n",
    "    nums.append(i*i)\n",
    "nums"
   ]
  },
  {
   "cell_type": "code",
   "execution_count": 9,
   "metadata": {},
   "outputs": [
    {
     "data": {
      "text/plain": [
       "[3, 6, 9, 12, 15, 18]"
      ]
     },
     "execution_count": 9,
     "metadata": {},
     "output_type": "execute_result"
    }
   ],
   "source": [
    "nums = []\n",
    "nums = [i for i in range(1,21) if i % 3 == 0] # 3의 배수만 리스트\n",
    "nums"
   ]
  },
  {
   "cell_type": "code",
   "execution_count": 11,
   "metadata": {},
   "outputs": [
    {
     "data": {
      "text/plain": [
       "[[0, 1, 2, 3], [0, 1, 2, 3], [0, 1, 2, 3]]"
      ]
     },
     "execution_count": 11,
     "metadata": {},
     "output_type": "execute_result"
    }
   ],
   "source": [
    "# 2차원 리스트\n",
    "nums2 = [[i for i in range(4)] for j in range(3)] #[[열,안쪽값],행]\n",
    "nums2"
   ]
  },
  {
   "cell_type": "markdown",
   "metadata": {},
   "source": [
    "### 세트"
   ]
  },
  {
   "cell_type": "code",
   "execution_count": 12,
   "metadata": {},
   "outputs": [
    {
     "data": {
      "text/plain": [
       "{1, 2, 3}"
      ]
     },
     "execution_count": 12,
     "metadata": {},
     "output_type": "execute_result"
    }
   ],
   "source": [
    "myset = {1,2,3,3,2,1} # 집합은 같은수(값)는 중복제거\n",
    "myset"
   ]
  },
  {
   "cell_type": "markdown",
   "metadata": {},
   "source": [
    "### 로또 번호 생성기"
   ]
  },
  {
   "cell_type": "code",
   "execution_count": 26,
   "metadata": {},
   "outputs": [],
   "source": [
    "import random"
   ]
  },
  {
   "cell_type": "code",
   "execution_count": 27,
   "metadata": {},
   "outputs": [],
   "source": [
    "# 전역변수 선언\n",
    "totalLotto = [] #최종 로또 번호 (2차원 리스트)\n",
    "lotto = [] # 한회별 로또번호 저장(1차원 리스트)\n",
    "pickNum = 0\n",
    "count = 0"
   ]
  },
  {
   "cell_type": "code",
   "execution_count": 29,
   "metadata": {},
   "outputs": [
    {
     "name": "stdout",
     "output_type": "stream",
     "text": [
      "로또 번호 생성 시작\n",
      "로또 번호 생성 완료\n"
     ]
    }
   ],
   "source": [
    "print('로또 번호 생성 시작')\n",
    "totalLotto = []\n",
    "count = int(input('뽑을 횟수 입력 > '))\n",
    "for _ in range(count): #_(i위치) 반복되는 숫자를 사용하지 않겠음\n",
    "    lotto = []\n",
    "    while True:\n",
    "        pickNum = random.randint(1, 45) # 1부터 45사이의 수를 저장\n",
    "        if pickNum not in lotto: # 랜덤으로 뽑은 수가 이미 있으면 패스\n",
    "            lotto.append(pickNum)\n",
    "        else:\n",
    "            continue # 반복문이 여러개 있으면 자신이 속한 반복문만 다시 반복\n",
    "        if len(lotto) >= 6: #숫자를 6개 뽑았으면\n",
    "            break # 반복문이 여러개 있으면 자신이 속한 반복문만 빠져나감\n",
    "    totalLotto.append(lotto)\n",
    "\n",
    "print('로또 번호 생성 완료')"
   ]
  },
  {
   "cell_type": "code",
   "execution_count": 30,
   "metadata": {},
   "outputs": [
    {
     "name": "stdout",
     "output_type": "stream",
     "text": [
      "로또 번호 > 07 10 18 21 34 45 \n",
      "로또 번호 > 07 11 18 23 38 43 \n"
     ]
    }
   ],
   "source": [
    "for item in totalLotto:\n",
    "    item.sort()\n",
    "    print('로또 번호 >',end=' ')\n",
    "    for i in item:\n",
    "        print(f'{i:02d}',end=' ')\n",
    "    print()"
   ]
  }
 ],
 "metadata": {
  "kernelspec": {
   "display_name": "Python 3",
   "language": "python",
   "name": "python3"
  },
  "language_info": {
   "codemirror_mode": {
    "name": "ipython",
    "version": 3
   },
   "file_extension": ".py",
   "mimetype": "text/x-python",
   "name": "python",
   "nbconvert_exporter": "python",
   "pygments_lexer": "ipython3",
   "version": "3.11.5"
  }
 },
 "nbformat": 4,
 "nbformat_minor": 2
}
