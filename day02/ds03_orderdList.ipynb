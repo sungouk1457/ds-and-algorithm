{
 "cells": [
  {
   "cell_type": "code",
   "execution_count": 1,
   "metadata": {},
   "outputs": [],
   "source": [
    "#file:ds03_orderdList.ipynb\n",
    "#dsec:선형 리스트"
   ]
  },
  {
   "cell_type": "markdown",
   "metadata": {},
   "source": [
    "## 자료구조와 알고리즘\n",
    "- 선형리스트\n",
    "\n",
    "### 1. 선형리스트 개념 및 내용\n",
    "- 파이썬의 리스트는 일반적인 프로그래밍(C언어 등)의 배열과 다름\n",
    "- 파이썬의 성능 문제로 배열과 리스트를 리스트 하나로 통합"
   ]
  },
  {
   "cell_type": "code",
   "execution_count": 2,
   "metadata": {},
   "outputs": [],
   "source": [
    "kakaotalk = [200,150,90,30,15]"
   ]
  },
  {
   "cell_type": "code",
   "execution_count": 5,
   "metadata": {},
   "outputs": [
    {
     "name": "stdout",
     "output_type": "stream",
     "text": [
      "140720151788552\n",
      "140720151786952\n",
      "140720151785032\n",
      "140720151783112\n",
      "140720151782632\n"
     ]
    }
   ],
   "source": [
    "print(id(kakaotalk[0])) #메모리에 저장된 주소를 10진수 표현\n",
    "print(id(kakaotalk[1]))\n",
    "print(id(kakaotalk[2]))\n",
    "print(id(kakaotalk[3]))\n",
    "print(id(kakaotalk[4]))"
   ]
  },
  {
   "cell_type": "markdown",
   "metadata": {},
   "source": [
    "### 2.선형리스트 구현\n",
    "- 파이썬에서 실제로 이렇게 복잡하게 할 필요없음\n",
    "- 배열(단순 선형리스트)를 이해하기 위해 만든 예제"
   ]
  },
  {
   "cell_type": "code",
   "execution_count": 6,
   "metadata": {},
   "outputs": [],
   "source": [
    "kakaotalk = [] #빈 배열 생성\n",
    "\n",
    "def add_data(friend):\n",
    "    kakaotalk.append(None) #배열 빈자를 생성\n",
    "    size = len(kakaotalk) #배열 전체 크기\n",
    "    kakaotalk[size-1] = friend"
   ]
  },
  {
   "cell_type": "code",
   "execution_count": 8,
   "metadata": {},
   "outputs": [],
   "source": [
    "add_data('다현')\n",
    "add_data('정연')\n",
    "add_data('쯔위')\n",
    "add_data('사나')\n",
    "add_data('지효')"
   ]
  },
  {
   "cell_type": "code",
   "execution_count": 9,
   "metadata": {},
   "outputs": [
    {
     "name": "stdout",
     "output_type": "stream",
     "text": [
      "['다현', '정연', '쯔위', '사나', '지효']\n"
     ]
    }
   ],
   "source": [
    "print(kakaotalk)"
   ]
  },
  {
   "cell_type": "code",
   "execution_count": 17,
   "metadata": {},
   "outputs": [],
   "source": [
    "# kakaotalk.insert(2,'솔라') 동일\n",
    "# 데에터 삽입함수\n",
    "def insert_data(pos, friend):\n",
    "    if pos < 0 or pos > len(kakaotalk):\n",
    "        print('데이터 삽입범위 초과')\n",
    "        return\n",
    "\n",
    "    #정상적인 처리시작\n",
    "    kakaotalk.append(None) #빈칸추가\n",
    "    size = len(kakaotalk) #배열의 현재크기\n",
    "    #삽입위치까지 데이터를 하나씩 뒤로 보냄\n",
    "    for i in range(size-1,pos,-1): #역순으로 맨뒤에서 부터\n",
    "        kakaotalk[i] = kakaotalk[i-1]\n",
    "        kakaotalk[i-1] = None\n",
    "\n",
    "    kakaotalk[pos] = friend"
   ]
  },
  {
   "cell_type": "code",
   "execution_count": 18,
   "metadata": {},
   "outputs": [
    {
     "name": "stdout",
     "output_type": "stream",
     "text": [
      "['다현', '정연', '솔라', '쯔위', '사나', '지효']\n"
     ]
    }
   ],
   "source": [
    "# 데이터 삽입\n",
    "insert_data(2,'솔라')\n",
    "print(kakaotalk)"
   ]
  },
  {
   "cell_type": "code",
   "execution_count": 19,
   "metadata": {},
   "outputs": [
    {
     "name": "stdout",
     "output_type": "stream",
     "text": [
      "['다현', '정연', '솔라', '쯔위', '사나', '지효', '문별']\n"
     ]
    }
   ],
   "source": [
    "insert_data(6,'문별')\n",
    "print(kakaotalk)"
   ]
  },
  {
   "cell_type": "code",
   "execution_count": 20,
   "metadata": {},
   "outputs": [],
   "source": [
    "## 데이터 삭제\n",
    "def delete_data(pos): #데이터 삭제시는 위치값만\n",
    "    if pos < 0 or pos >= len(kakaotalk):\n",
    "        print('데이터 삭제범위 초과')\n",
    "        return\n",
    "\n",
    "    size = len(kakaotalk)\n",
    "    kakaotalk[pos] = None #데이터 삭제\n",
    "\n",
    "    for i in range(pos+1, size):\n",
    "        kakaotalk[i-1] = kakaotalk[i]#뒤에 값을 앞으로\n",
    "        kakaotalk[i] = None\n",
    "\n",
    "    del(kakaotalk[size-1]) #배열의 맨 마지막값 삭제"
   ]
  },
  {
   "cell_type": "code",
   "execution_count": 22,
   "metadata": {},
   "outputs": [
    {
     "name": "stdout",
     "output_type": "stream",
     "text": [
      "['다현', '정연', '솔라', '사나', '지효', '문별']\n"
     ]
    }
   ],
   "source": [
    "#['다현', '정연', '솔라', '쯔위', '사나', '지효', '문별']\n",
    "# 쯔위 삭제\n",
    "delete_data(3)\n",
    "print(kakaotalk)"
   ]
  }
 ],
 "metadata": {
  "kernelspec": {
   "display_name": "Python 3",
   "language": "python",
   "name": "python3"
  },
  "language_info": {
   "codemirror_mode": {
    "name": "ipython",
    "version": 3
   },
   "file_extension": ".py",
   "mimetype": "text/x-python",
   "name": "python",
   "nbconvert_exporter": "python",
   "pygments_lexer": "ipython3",
   "version": "3.11.5"
  }
 },
 "nbformat": 4,
 "nbformat_minor": 2
}
