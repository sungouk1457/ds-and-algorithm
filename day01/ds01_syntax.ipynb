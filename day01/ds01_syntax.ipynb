{
 "cells": [
  {
   "cell_type": "code",
   "execution_count": 10,
   "metadata": {},
   "outputs": [],
   "source": [
    "# file:ds01_syntax.ipynb\n",
    "# desc:파이썬 기본문법 복습"
   ]
  },
  {
   "cell_type": "markdown",
   "metadata": {},
   "source": [
    "## 자료구조와 알고리즘\n",
    "- 파이썬 기본문법 복습\n",
    "\n",
    "### 1.콘솔출력\n",
    "print()"
   ]
  },
  {
   "cell_type": "code",
   "execution_count": 11,
   "metadata": {},
   "outputs": [],
   "source": [
    "# 코딩 네이밍룰\n",
    "# 변수앞 i를 적으면 정수형, f를 적으면 실수형, s를 적으면 문자열형, is를 적으면 Boolean형\n",
    "isBasic = True\n",
    "iMonth = 12\n",
    "sMonth = 'December'\n",
    "fTaxRate = 10.2\n",
    "\n",
    "isBasic, iMonth, sMonth, fTaxRate = False, 1 ,'January', 8.8"
   ]
  },
  {
   "cell_type": "code",
   "execution_count": 12,
   "metadata": {},
   "outputs": [
    {
     "name": "stdout",
     "output_type": "stream",
     "text": [
      "<class 'bool'> <class 'int'> <class 'str'> <class 'float'>\n"
     ]
    }
   ],
   "source": [
    "# 각 변수별 타입확인, 주피터 노트북에서는 변수나 함수만 써서 화면출력 가능\n",
    "# print()\n",
    "print(type(isBasic),type(iMonth),type(sMonth),type(fTaxRate))"
   ]
  },
  {
   "cell_type": "code",
   "execution_count": 13,
   "metadata": {},
   "outputs": [
    {
     "name": "stdout",
     "output_type": "stream",
     "text": [
      "100\n"
     ]
    }
   ],
   "source": [
    "#구식방법\n",
    "#100출력방법 100,'100','%d' % 100\n",
    "# '%d' 정수의 출력할건데 % 뒤에 있는 값을 정수형 문자열로 출력하라\n",
    "print('%d' % 100)"
   ]
  },
  {
   "cell_type": "code",
   "execution_count": 14,
   "metadata": {},
   "outputs": [
    {
     "name": "stdout",
     "output_type": "stream",
     "text": [
      "200\n"
     ]
    }
   ],
   "source": [
    "print('%d' % (100+100))"
   ]
  },
  {
   "cell_type": "code",
   "execution_count": 15,
   "metadata": {},
   "outputs": [
    {
     "ename": "TypeError",
     "evalue": "not enough arguments for format string",
     "output_type": "error",
     "traceback": [
      "\u001b[1;31m---------------------------------------------------------------------------\u001b[0m",
      "\u001b[1;31mTypeError\u001b[0m                                 Traceback (most recent call last)",
      "Cell \u001b[1;32mIn[15], line 2\u001b[0m\n\u001b[0;32m      1\u001b[0m \u001b[38;5;66;03m# 구식방법, 잘못된 예  %d의 개수와 % 뒤에 값 개수가 일치해야\u001b[39;00m\n\u001b[1;32m----> 2\u001b[0m \u001b[38;5;28mprint\u001b[39m(\u001b[38;5;124;43m'\u001b[39;49m\u001b[38;5;132;43;01m%d\u001b[39;49;00m\u001b[38;5;124;43m | \u001b[39;49m\u001b[38;5;132;43;01m%d\u001b[39;49;00m\u001b[38;5;124;43m. \u001b[39;49m\u001b[38;5;132;43;01m%d\u001b[39;49;00m\u001b[38;5;124;43m'\u001b[39;49m\u001b[38;5;241;43m%\u001b[39;49m\u001b[43m(\u001b[49m\u001b[38;5;241;43m108\u001b[39;49m\u001b[43m,\u001b[49m\u001b[38;5;241;43m209\u001b[39;49m\u001b[43m)\u001b[49m)\n",
      "\u001b[1;31mTypeError\u001b[0m: not enough arguments for format string"
     ]
    }
   ],
   "source": [
    "# 구식방법, 잘못된 예  %d의 개수와 % 뒤에 값 개수가 일치해야\n",
    "print('%d | %d. %d'%(108,209))"
   ]
  },
  {
   "cell_type": "code",
   "execution_count": 20,
   "metadata": {},
   "outputs": [
    {
     "name": "stdout",
     "output_type": "stream",
     "text": [
      "1/ January / 8.80 / H / ff / 20\n"
     ]
    }
   ],
   "source": [
    "## 구식 %문자열 포멧에는 2진수가 없음(C언어부터 넘어온것)\n",
    "print('%d/ %s / %.2f / %c / %x / %o'  % (iMonth, sMonth, fTaxRate, 'H', 255,16))"
   ]
  },
  {
   "cell_type": "code",
   "execution_count": 26,
   "metadata": {},
   "outputs": [
    {
     "name": "stdout",
     "output_type": "stream",
     "text": [
      "1/January/8.8/H/ff/71/10000\n"
     ]
    }
   ],
   "source": [
    "## 신식방법 모맷스트링(90년대 경 발전)\n",
    "print('{0}/{1}/{2}/{3}/{4:x}/{5:o}/{6:b}'.format(iMonth, sMonth, fTaxRate, 'H', 255, 57, 16))"
   ]
  },
  {
   "cell_type": "code",
   "execution_count": 29,
   "metadata": {},
   "outputs": [
    {
     "name": "stdout",
     "output_type": "stream",
     "text": [
      "01/January/8.80/H/c0/71/1111111111\n"
     ]
    }
   ],
   "source": [
    "## 최신식방법 포맷스트링(python 3.6이후 개발)\n",
    "print(f'{iMonth:02d}/{sMonth}/{fTaxRate:.2f}/{\"H\"}/{192:x}/{57:o}/{1023:b}')"
   ]
  },
  {
   "cell_type": "markdown",
   "metadata": {},
   "source": [
    "### 2.입력\n",
    "- input()"
   ]
  },
  {
   "cell_type": "code",
   "execution_count": 34,
   "metadata": {},
   "outputs": [
    {
     "name": "stdout",
     "output_type": "stream",
     "text": [
      "1020\n"
     ]
    }
   ],
   "source": [
    "# 입력은 무조건 문자열(str)\n",
    "x = input()\n",
    "y = input()\n",
    "print(x + y) # 문자열 결합이 됨"
   ]
  },
  {
   "cell_type": "code",
   "execution_count": 35,
   "metadata": {},
   "outputs": [
    {
     "name": "stdout",
     "output_type": "stream",
     "text": [
      "35\n"
     ]
    }
   ],
   "source": [
    "#입력을 정수로 변경해줘야 함\n",
    "x = int(input())\n",
    "y = int(input())\n",
    "print(x + y)"
   ]
  },
  {
   "cell_type": "code",
   "execution_count": null,
   "metadata": {},
   "outputs": [],
   "source": [
    "# 실수는 float()으로 변환 정수 -> 실수 자동변환 / 실수 -> 정수 수동변환해야\n",
    "x = float(input())\n",
    "y = float(input())\n",
    "print(x * y)"
   ]
  },
  {
   "cell_type": "code",
   "execution_count": 36,
   "metadata": {},
   "outputs": [
    {
     "name": "stdout",
     "output_type": "stream",
     "text": [
      "1.200000 * 1.300000 = 1.5600\n"
     ]
    }
   ],
   "source": [
    "## input() 만 쓰면 뭘할지 모르기 때문에 내용을 옵션으로 작성\n",
    "x = float(input('첫번째 실수(예 3.14) : '))\n",
    "y = float(input('두번째 실수(예 3.14) : '))\n",
    "print(f'{x:2f} * {y:2f} = {x*y:.4f}')"
   ]
  },
  {
   "cell_type": "code",
   "execution_count": 40,
   "metadata": {},
   "outputs": [
    {
     "name": "stdout",
     "output_type": "stream",
     "text": [
      "51.250000 * 154.260000 = 7905.8250\n"
     ]
    }
   ],
   "source": [
    "## 입력값이 두개 이상이면 map과 split를 활용할것\n",
    "x,y = map(float,input('두 실수를 입력(구분자 스페이스) : ').split())\n",
    "print(f'{x:2f} * {y:2f} = {x*y:.4f}')"
   ]
  },
  {
   "cell_type": "markdown",
   "metadata": {},
   "source": [
    "### 3.연산자\n",
    "- 사칙연산, 승수, 나머지의 경우 연산다 3개"
   ]
  },
  {
   "cell_type": "code",
   "execution_count": 41,
   "metadata": {},
   "outputs": [
    {
     "name": "stdout",
     "output_type": "stream",
     "text": [
      "8 2 15 1.6666666666666667 1 2 125\n"
     ]
    }
   ],
   "source": [
    "## 산술연산 \n",
    "a = 5; b = 3 #여러 줄 로직을 한줄에 사용시 세미콜론(;)으로 구분 a,b = 5,3\n",
    "print(a+b, a-b, a*b, a/b, a//b, a%b, a**b)\n"
   ]
  },
  {
   "cell_type": "code",
   "execution_count": 45,
   "metadata": {},
   "outputs": [
    {
     "name": "stdout",
     "output_type": "stream",
     "text": [
      "8\n",
      "5\n",
      "15\n",
      "5.0\n",
      "1\n",
      "2\n",
      "1024\n"
     ]
    }
   ],
   "source": [
    "## 대입연산자\n",
    "a = 5\n",
    "a += 3\n",
    "print(a) #8\n",
    "a -= 3\n",
    "print(a) #5\n",
    "a *= 3  \n",
    "print(a) #15\n",
    "a /= 3\n",
    "print(a) #5.0\n",
    "a = int(a) # 5.0 -> 5\n",
    "a //= 3\n",
    "print(a) #1\n",
    "a = 5\n",
    "a %= 3\n",
    "print(a) #2\n",
    "a **= 10\n",
    "print(a) #1024"
   ]
  },
  {
   "cell_type": "code",
   "execution_count": 49,
   "metadata": {},
   "outputs": [
    {
     "name": "stdout",
     "output_type": "stream",
     "text": [
      "True False False True True False\n",
      "True\n",
      "True\n"
     ]
    }
   ],
   "source": [
    "## 관계연산자\n",
    "a, b, c, d = 3, 5, 9, 5\n",
    "print(b == d,b!=d, a > b, d < c, b >= d, c <= a)\n",
    "print(a < b and c > d) # 양쪽다 참이면 참, 한쪽이라도 거짓이면 거짓\n",
    "print(a < b or c > d) # 한쪽이라도 참이면 참, 둘다 거짓이면 거짓\n"
   ]
  },
  {
   "cell_type": "markdown",
   "metadata": {},
   "source": [
    "### 4. 형변환(Type casting)"
   ]
  },
  {
   "cell_type": "code",
   "execution_count": 52,
   "metadata": {},
   "outputs": [
    {
     "data": {
      "text/plain": [
       "'10'"
      ]
     },
     "execution_count": 52,
     "metadata": {},
     "output_type": "execute_result"
    }
   ],
   "source": [
    "str(10) # 정수 10을 문자열로 변환"
   ]
  },
  {
   "cell_type": "code",
   "execution_count": 51,
   "metadata": {},
   "outputs": [
    {
     "data": {
      "text/plain": [
       "'3.141592'"
      ]
     },
     "execution_count": 51,
     "metadata": {},
     "output_type": "execute_result"
    }
   ],
   "source": [
    "str(3.141592) # 실수가 문자열로 변환"
   ]
  },
  {
   "cell_type": "code",
   "execution_count": 53,
   "metadata": {},
   "outputs": [
    {
     "data": {
      "text/plain": [
       "10"
      ]
     },
     "execution_count": 53,
     "metadata": {},
     "output_type": "execute_result"
    }
   ],
   "source": [
    "int('10') #문자열을 정수로, 문자열로 들어있지만 계산을 하려면 정수로 변환"
   ]
  },
  {
   "cell_type": "code",
   "execution_count": 54,
   "metadata": {},
   "outputs": [
    {
     "data": {
      "text/plain": [
       "3.14"
      ]
     },
     "execution_count": 54,
     "metadata": {},
     "output_type": "execute_result"
    }
   ],
   "source": [
    "float('3.14') #실수값 문자열은 float으로 변환"
   ]
  },
  {
   "cell_type": "code",
   "execution_count": 56,
   "metadata": {},
   "outputs": [
    {
     "data": {
      "text/plain": [
       "True"
      ]
     },
     "execution_count": 56,
     "metadata": {},
     "output_type": "execute_result"
    }
   ],
   "source": [
    "#1이상은 True,0은 false. 하지만 1만 True로 사용할 것\n",
    "bool(1) "
   ]
  },
  {
   "cell_type": "markdown",
   "metadata": {},
   "source": [
    "### 5. 흐름제어\n",
    "- 조건문(if, for, while)"
   ]
  },
  {
   "cell_type": "markdown",
   "metadata": {},
   "source": [
    "- if문"
   ]
  },
  {
   "cell_type": "code",
   "execution_count": 57,
   "metadata": {},
   "outputs": [
    {
     "name": "stdout",
     "output_type": "stream",
     "text": [
      "이깁니다\n"
     ]
    }
   ],
   "source": [
    "# 단순 if문\n",
    "army = 300\n",
    "if army < 300:\n",
    "    print('싸우면 집니다')\n",
    "else:\n",
    "    print('이깁니다')"
   ]
  },
  {
   "cell_type": "code",
   "execution_count": 59,
   "metadata": {},
   "outputs": [
    {
     "name": "stdout",
     "output_type": "stream",
     "text": [
      "간당간당합니다\n",
      "한번 싸워보죠\n"
     ]
    }
   ],
   "source": [
    "# elif\n",
    "if army < 300:\n",
    "    print('싸우면 집니다') # block if army < 300: 조건의 안쪽으로 들어간다 \n",
    "    print('도망갈래요')\n",
    "elif army == 300:\n",
    "    print('간당간당합니다')\n",
    "    print('한번 싸워보죠')\n",
    "else:\n",
    "    print('이깁니다')\n",
    "\n",
    "# if문도 중첩if문을 여러번쓰면 경우의 수가 기하급수적으로 증가(경우를 모두 처리해줘야)"
   ]
  },
  {
   "cell_type": "markdown",
   "metadata": {},
   "source": [
    "- for문"
   ]
  },
  {
   "cell_type": "code",
   "execution_count": 60,
   "metadata": {},
   "outputs": [
    {
     "name": "stdout",
     "output_type": "stream",
     "text": [
      "0,1,2,3,4,"
     ]
    }
   ],
   "source": [
    "## for문\n",
    "for i in range(5):\n",
    "    print(i, end=',')"
   ]
  },
  {
   "cell_type": "code",
   "execution_count": 62,
   "metadata": {},
   "outputs": [
    {
     "name": "stdout",
     "output_type": "stream",
     "text": [
      "1, 2, 3, 4, 5, "
     ]
    }
   ],
   "source": [
    "for i in range(1,5+1):\n",
    "    print(i,end=', ')"
   ]
  },
  {
   "cell_type": "code",
   "execution_count": 63,
   "metadata": {},
   "outputs": [
    {
     "name": "stdout",
     "output_type": "stream",
     "text": [
      "1, 3, 5, 7, 9, "
     ]
    }
   ],
   "source": [
    "for i in range(1,10+1,2):\n",
    "    print(i,end=', ')"
   ]
  },
  {
   "cell_type": "code",
   "execution_count": 64,
   "metadata": {},
   "outputs": [
    {
     "name": "stdout",
     "output_type": "stream",
     "text": [
      "0, 1, 2, 3, 4, 5, 6, 7, 8, 9, "
     ]
    }
   ],
   "source": [
    "for i in [0,1,2,3,4,5,6,7,8,9]:\n",
    "    print(i,end= ', ')"
   ]
  },
  {
   "cell_type": "code",
   "execution_count": 67,
   "metadata": {},
   "outputs": [
    {
     "name": "stdout",
     "output_type": "stream",
     "text": [
      "0, 1, 2, 3, 4, 5, 6, 7, 8, 9, "
     ]
    }
   ],
   "source": [
    "myList = [0,1,2,3,4,5,6,7,8,9]\n",
    "for i in myList:\n",
    "    print(i,end= ', ')"
   ]
  },
  {
   "cell_type": "markdown",
   "metadata": {},
   "source": [
    "- while"
   ]
  },
  {
   "cell_type": "code",
   "execution_count": null,
   "metadata": {},
   "outputs": [],
   "source": [
    "\n",
    "while True: #무한 루프\n",
    "    print('ㅎ',end='')"
   ]
  },
  {
   "cell_type": "markdown",
   "metadata": {},
   "source": [
    "- continue : 반복문에서 조건이 맞으면 로직을 실행하지 않고 다음 반복으로 계속 반복\n",
    "- break : 반복문에서 조건이 맞으면 반복문 블록을 빠져나가는 것"
   ]
  },
  {
   "cell_type": "code",
   "execution_count": 70,
   "metadata": {},
   "outputs": [
    {
     "name": "stdout",
     "output_type": "stream",
     "text": [
      "for문1번 실행\n",
      "for문2번 실행\n",
      "for문3번 실행\n",
      "for문4번 실행\n",
      "for문5번 실행\n",
      "for문6번 실행\n",
      "for문7번 실행\n",
      "for문8번 실행\n",
      "for문9번 실행\n",
      "for문10번 실행\n"
     ]
    }
   ],
   "source": [
    "for i in range(1,100+1):\n",
    "    print(f'for문{i}번 실행')\n",
    "    if i == 10:break"
   ]
  },
  {
   "cell_type": "code",
   "execution_count": 75,
   "metadata": {},
   "outputs": [
    {
     "name": "stdout",
     "output_type": "stream",
     "text": [
      "for문1번 실행\n",
      "for문2번 실행\n",
      "for문4번 실행\n",
      "for문8번 실행\n",
      "for문11번 실행\n",
      "for문13번 실행\n",
      "for문16번 실행\n",
      "for문17번 실행\n",
      "for문19번 실행\n",
      "for문22번 실행\n",
      "for문23번 실행\n",
      "for문26번 실행\n",
      "for문29번 실행\n",
      "for문31번 실행\n",
      "for문32번 실행\n",
      "for문34번 실행\n",
      "for문37번 실행\n",
      "for문38번 실행\n",
      "for문41번 실행\n",
      "for문43번 실행\n",
      "for문44번 실행\n",
      "for문46번 실행\n",
      "for문47번 실행\n",
      "for문52번 실행\n",
      "for문53번 실행\n",
      "for문58번 실행\n",
      "for문59번 실행\n",
      "for문61번 실행\n",
      "for문62번 실행\n",
      "for문64번 실행\n",
      "for문67번 실행\n",
      "for문68번 실행\n",
      "for문71번 실행\n",
      "for문73번 실행\n",
      "for문74번 실행\n",
      "for문76번 실행\n",
      "for문79번 실행\n",
      "for문82번 실행\n",
      "for문83번 실행\n",
      "for문86번 실행\n",
      "for문88번 실행\n",
      "for문89번 실행\n",
      "for문92번 실행\n",
      "for문94번 실행\n",
      "for문97번 실행\n",
      "45\n"
     ]
    }
   ],
   "source": [
    "count = 0\n",
    "for i in range(1,100+1):\n",
    "    if (i % 3 == 0) or (i % 5 == 0) or (i % 7 == 0) or (i % 9 == 0) : continue\n",
    "    print(f'for문{i}번 실행')\n",
    "    count += 1\n",
    "print(count)"
   ]
  },
  {
   "cell_type": "markdown",
   "metadata": {},
   "source": [
    "### 6.함수\n",
    "- 매개변수를 받아서 동일한 로직을 처리하는 영역"
   ]
  },
  {
   "cell_type": "code",
   "execution_count": 79,
   "metadata": {},
   "outputs": [],
   "source": [
    "def plus(v1,v2):\n",
    "    result = 0\n",
    "    result = v1 + v2\n",
    "    return result"
   ]
  },
  {
   "cell_type": "code",
   "execution_count": 80,
   "metadata": {},
   "outputs": [
    {
     "name": "stdout",
     "output_type": "stream",
     "text": [
      "200과 100의 합은 300\n"
     ]
    }
   ],
   "source": [
    "hap = 0\n",
    "hap = plus(200,100)\n",
    "print(f'200과 100의 합은 {hap}')"
   ]
  },
  {
   "cell_type": "markdown",
   "metadata": {},
   "source": [
    "### 6-1. 지역변수/전역변수\n",
    "Local Variable / Global Variable"
   ]
  },
  {
   "cell_type": "code",
   "execution_count": 81,
   "metadata": {},
   "outputs": [
    {
     "name": "stdout",
     "output_type": "stream",
     "text": [
      "500\n",
      "5.0\n",
      "90\n"
     ]
    },
    {
     "ename": "NameError",
     "evalue": "name 'lcl_val' is not defined",
     "output_type": "error",
     "traceback": [
      "\u001b[1;31m---------------------------------------------------------------------------\u001b[0m",
      "\u001b[1;31mNameError\u001b[0m                                 Traceback (most recent call last)",
      "Cell \u001b[1;32mIn[81], line 12\u001b[0m\n\u001b[0;32m     10\u001b[0m     \u001b[38;5;28mprint\u001b[39m(lcl_val\u001b[38;5;241m/\u001b[39m\u001b[38;5;241m3\u001b[39m) \u001b[38;5;66;03m# 3.333 예상 but name 'lcl_val' is not defined\u001b[39;00m\n\u001b[0;32m     11\u001b[0m func1()\n\u001b[1;32m---> 12\u001b[0m \u001b[43mfunc2\u001b[49m\u001b[43m(\u001b[49m\u001b[43m)\u001b[49m \n",
      "Cell \u001b[1;32mIn[81], line 10\u001b[0m, in \u001b[0;36mfunc2\u001b[1;34m()\u001b[0m\n\u001b[0;32m      8\u001b[0m \u001b[38;5;28;01mdef\u001b[39;00m \u001b[38;5;21mfunc2\u001b[39m():\n\u001b[0;32m      9\u001b[0m     \u001b[38;5;28mprint\u001b[39m(gbl_val\u001b[38;5;241m-\u001b[39m\u001b[38;5;241m10\u001b[39m)\n\u001b[1;32m---> 10\u001b[0m     \u001b[38;5;28mprint\u001b[39m(\u001b[43mlcl_val\u001b[49m\u001b[38;5;241m/\u001b[39m\u001b[38;5;241m3\u001b[39m)\n",
      "\u001b[1;31mNameError\u001b[0m: name 'lcl_val' is not defined"
     ]
    }
   ],
   "source": [
    "gbl_val = 100 #전역변수\n",
    "\n",
    "def func1():\n",
    "    lcl_val = 10 # 지역변수\n",
    "    print(gbl_val*5)\n",
    "    print(lcl_val/2)\n",
    "\n",
    "def func2():\n",
    "    print(gbl_val-10)\n",
    "    print(lcl_val/3) # 3.333 예상 but name 'lcl_val' is not defined\n",
    "func1()\n",
    "func2() "
   ]
  },
  {
   "cell_type": "code",
   "execution_count": 83,
   "metadata": {},
   "outputs": [
    {
     "name": "stdout",
     "output_type": "stream",
     "text": [
      "30\n",
      "30\n"
     ]
    }
   ],
   "source": [
    "aa = 10\n",
    "\n",
    "def func3():\n",
    "    # aa = 20\n",
    "    global aa\n",
    "    aa = 30\n",
    "    print(aa)\n",
    "\n",
    "def func4():\n",
    "    print(aa)\n",
    "\n",
    "func3()\n",
    "func4()\n",
    "## local 일경우 20,10\n",
    "## global로 선언하면 30,30"
   ]
  }
 ],
 "metadata": {
  "kernelspec": {
   "display_name": "Python 3",
   "language": "python",
   "name": "python3"
  },
  "language_info": {
   "codemirror_mode": {
    "name": "ipython",
    "version": 3
   },
   "file_extension": ".py",
   "mimetype": "text/x-python",
   "name": "python",
   "nbconvert_exporter": "python",
   "pygments_lexer": "ipython3",
   "version": "3.11.5"
  }
 },
 "nbformat": 4,
 "nbformat_minor": 2
}
