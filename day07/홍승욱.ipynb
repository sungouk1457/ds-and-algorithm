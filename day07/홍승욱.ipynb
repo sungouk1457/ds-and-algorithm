{
 "cells": [
  {
   "cell_type": "markdown",
   "metadata": {},
   "source": [
    "### 1번 문제"
   ]
  },
  {
   "cell_type": "code",
   "execution_count": 25,
   "metadata": {},
   "outputs": [],
   "source": [
    "# 함수 선언\n",
    "def 풀스택(): #스택이 꽉 찾는지 확인하는 함수\n",
    "    global SIZE, stack, top\n",
    "    if (top >= SIZE-1):\n",
    "        return True\n",
    "    else:\n",
    "        return False\n",
    "\n",
    "def 빈스택(): # 스택이 비었는지 확인하는 함수\n",
    "    global SIZE, stack, top\n",
    "    if (top == -1):\n",
    "        return True\n",
    "    else:\n",
    "        return False\n",
    "\n",
    "def push(data): #데이터 삽입\n",
    "    global SIZE, stack, top\n",
    "    if(풀스택()):\n",
    "        print('스택이 다찼습니다')\n",
    "        return\n",
    "    top += 1\n",
    "    stack[top] = data\n",
    "\n",
    "def pop(): #데이터 추출\n",
    "    global SIZE, stack, top\n",
    "    if(빈스택()):\n",
    "        print('스택이 비었습니다')\n",
    "        return None\n",
    "    data = stack[top]\n",
    "    stack[top] = None\n",
    "    top -= 1\n",
    "    return data\n",
    "\n",
    "def peek(): #스택에서 top위치의 데이터를 확인하는 함수\n",
    "    global SIZE, stack, top\n",
    "    if(빈스택()):\n",
    "        print('스택이 비었습니다')\n",
    "        return None\n",
    "    return stack[top]\n"
   ]
  },
  {
   "cell_type": "code",
   "execution_count": 2,
   "metadata": {},
   "outputs": [],
   "source": [
    "#전역 변수 선언\n",
    "SIZE = int(input('스택 크기를 입력하세요.'))\n",
    "stack = [None for _ in range(SIZE)]\n",
    "top = -1"
   ]
  },
  {
   "cell_type": "code",
   "execution_count": 29,
   "metadata": {},
   "outputs": [
    {
     "name": "stdout",
     "output_type": "stream",
     "text": [
      "입력이 잘못됨\n",
      "스택상태 : ['축구', '야구', '야구', None, None]\n",
      "추출된 데이터 : 야구\n",
      "스택상태 : ['축구', '야구', None, None, None]\n",
      "확인된 데이터 : 야구\n",
      "스택상태 : ['축구', '야구', None, None, None]\n",
      "프로그램 종료\n"
     ]
    }
   ],
   "source": [
    "# 메인코드 부분\n",
    "if __name__ == '__main__':\n",
    "    select = input('삽입(I)/추출(E)/확인(V)/종료(X) 중 선택 > ')\n",
    "\n",
    "    while(select !='X' and select != 'x'):\n",
    "        if select == 'I' or select == 'i':\n",
    "            data = input('입력할 데이터 : ')\n",
    "            push(data)\n",
    "            print(f'스택상태 : {stack}')\n",
    "        elif select == 'E' or select == 'e':\n",
    "            data = pop()\n",
    "            print(f'추출된 데이터 : {data}')\n",
    "            print(f'스택상태 : {stack}')\n",
    "        elif select == 'V' or select == 'v':\n",
    "            data = peek()\n",
    "            print(f'확인된 데이터 : {data}')\n",
    "            print(f'스택상태 : {stack}')\n",
    "        else:\n",
    "            print('입력이 잘못됨')\n",
    "\n",
    "        select = input('삽입(I)/추출(E)/확인(V)/종료(X) 중 선택 > ')\n",
    "    print('프로그램 종료')"
   ]
  },
  {
   "cell_type": "markdown",
   "metadata": {},
   "source": [
    "### 2번 문제"
   ]
  },
  {
   "cell_type": "code",
   "execution_count": 14,
   "metadata": {},
   "outputs": [],
   "source": [
    "#함수 선언\n",
    "def isQueueFull():\n",
    "    global SIZE, queue, front, rear\n",
    "    if (rear == SIZE-1):\n",
    "        return True\n",
    "    else:\n",
    "        return False\n",
    "\n",
    "def isQueueEmpty():\n",
    "    global SIZE, queue, front, rear\n",
    "    if (front == rear):\n",
    "        return True\n",
    "    else:\n",
    "        return False\n",
    "\n",
    "def enQueue(data):\n",
    "    global SIZE, queue, front, rear\n",
    "    if(isQueueFull()):\n",
    "        print('큐가 다찼습니다')\n",
    "        return\n",
    "    rear += 1\n",
    "    queue[rear] = data\n",
    "\n",
    "def deQueue():\n",
    "    global SIZE, queue, front, rear\n",
    "    if(isQueueEmpty()):\n",
    "        print('큐가 비었습니다')\n",
    "        return None\n",
    "    front += 1\n",
    "    data = queue[front]\n",
    "    queue[front] = None\n",
    "\n",
    "    for i in range(front+1,rear+1):\n",
    "        queue[i-1] = queue[i]\n",
    "        queue[i] = None\n",
    "    front = -1\n",
    "    rear -= 1\n",
    "    return data\n",
    "\n",
    "def peek():\n",
    "    global SIZE, queue, front, rear\n",
    "    if(isQueueEmpty()):\n",
    "        print('큐가 비었습니다')\n",
    "        return None\n",
    "    return queue[front+1]"
   ]
  },
  {
   "cell_type": "code",
   "execution_count": 23,
   "metadata": {},
   "outputs": [],
   "source": [
    "#전역변수\n",
    "SIZE = int(input('큐 크기 입력하세요'))\n",
    "queue = [None for _ in range(SIZE)]\n",
    "front = rear = -1"
   ]
  },
  {
   "cell_type": "code",
   "execution_count": 27,
   "metadata": {},
   "outputs": [
    {
     "name": "stdout",
     "output_type": "stream",
     "text": [
      "대기줄 상태 : ['정국', None, None]\n",
      "대기줄 상태 : ['정국', '뷔', None]\n",
      "대기줄 상태 : ['정국', '뷔', '지민']\n",
      "입장 대기 > 정국\n",
      "대기줄 상태 : ['정국', '뷔', '지민']\n",
      "입장 > 정국\n",
      "대기줄 상태 : ['뷔', '지민', None]\n",
      "영업 종료\n"
     ]
    }
   ],
   "source": [
    "# 메인 코드\n",
    "if __name__ == '__main__':\n",
    "    while True:\n",
    "        select = input('입장 대기(e),입장(d),확인(P)종료(x) > ')\n",
    "        if select == 'e':\n",
    "            data = input('입장 대기 : ')\n",
    "            enQueue(data)\n",
    "            print(f'대기줄 상태 : {queue}')\n",
    "        elif select == 'd':\n",
    "            data = deQueue()\n",
    "            print(f'{data} 입장')\n",
    "            print(f'대기줄 상태 : {queue}')\n",
    "        elif select == 'p':\n",
    "            data = peek()\n",
    "            print(f'입장 대기 > {data}')\n",
    "            print(f'대기줄 상태 : {queue}')\n",
    "        elif select == 'x':\n",
    "            print('영업 종료')\n",
    "            break "
   ]
  },
  {
   "cell_type": "markdown",
   "metadata": {},
   "source": [
    "### 3번 문제"
   ]
  },
  {
   "cell_type": "code",
   "execution_count": 61,
   "metadata": {},
   "outputs": [],
   "source": [
    "import random"
   ]
  },
  {
   "cell_type": "code",
   "execution_count": 62,
   "metadata": {},
   "outputs": [],
   "source": [
    "#함수 선언\n",
    "class TreeNode():\n",
    "    def __init__(self):\n",
    "        self.left = None\n",
    "        self.data = None\n",
    "        self.right = None"
   ]
  },
  {
   "cell_type": "code",
   "execution_count": 63,
   "metadata": {},
   "outputs": [],
   "source": [
    "# 전역 변수 선언\n",
    "memory = []\n",
    "root = None\n",
    "dataAry = []"
   ]
  },
  {
   "cell_type": "code",
   "execution_count": 70,
   "metadata": {},
   "outputs": [
    {
     "name": "stdout",
     "output_type": "stream",
     "text": [
      "오늘 판매된 물건 중복(O) --> ['도시락', '우유', '우유', '물', '김밥', '도시락', '콜라', '김밥', '사탕', '콜라', '우유', '도시락', '도시락', '도시락', '우유', '커피', '도시락', '콜라', '김밥', '물']\n",
      "이진 탐색 트리 구성 완료\n",
      "오늘 판매된 종류(중복X) -->  도시락 김밥 우유 물 사탕 콜라 커피 "
     ]
    }
   ],
   "source": [
    "#메인 코드\n",
    "if __name__ == '__main__':\n",
    "    while True:\n",
    "        select = input('판매 목록(e),확인(p)종료(x) > ')\n",
    "        if select == 'e':\n",
    "            dataAry = input('판매 물건입력').split(' ')\n",
    "        elif select == 'p':\n",
    "            sellAry = [random.choice(dataAry) for _ in range(20)]\n",
    "            print(f'오늘 판매된 물건 중복(O) --> {sellAry}')\n",
    "        elif select == 'x':\n",
    "            break    \n",
    "node = TreeNode()\n",
    "node.data = sellAry[0]\n",
    "root = node\n",
    "memory.append(node)\n",
    "for name in sellAry[1:]:\n",
    "    node = TreeNode()\n",
    "    node.data = name\n",
    "\n",
    "    curr = root\n",
    "    while True:\n",
    "        if name == curr.data:\n",
    "            break\n",
    "        if name < curr.data:\n",
    "            if curr.left == None:\n",
    "                curr.left = node\n",
    "                memory.append(node)\n",
    "                break\n",
    "            curr = curr.left\n",
    "        else:\n",
    "            if curr.right == None:\n",
    "                curr.right = node\n",
    "                memory.append(node)\n",
    "                break\n",
    "            curr = curr.right\n",
    "print('이진 탐색 트리 구성 완료')\n",
    "\n",
    "def preorder(node):\n",
    "    if node == None:\n",
    "        return\n",
    "    print(node.data,end=' ')\n",
    "    preorder(node.left)\n",
    "    preorder(node.right)\n",
    "\n",
    "print('오늘 판매된 종류(중복X) --> ',end=' ')\n",
    "preorder(root)"
   ]
  }
 ],
 "metadata": {
  "kernelspec": {
   "display_name": "Python 3",
   "language": "python",
   "name": "python3"
  },
  "language_info": {
   "codemirror_mode": {
    "name": "ipython",
    "version": 3
   },
   "file_extension": ".py",
   "mimetype": "text/x-python",
   "name": "python",
   "nbconvert_exporter": "python",
   "pygments_lexer": "ipython3",
   "version": "3.11.5"
  }
 },
 "nbformat": 4,
 "nbformat_minor": 2
}
