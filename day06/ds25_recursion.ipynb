{
 "cells": [
  {
   "cell_type": "code",
   "execution_count": 1,
   "metadata": {},
   "outputs": [],
   "source": [
    "# file:ds25_recursion.ipynb\n",
    "# desc:재귀호출 연습"
   ]
  },
  {
   "cell_type": "markdown",
   "metadata": {},
   "source": [
    "## 자료구조와 알고리즘\n",
    "\n",
    "재귀호출\n",
    "\n",
    "### 재귀호출 연습"
   ]
  },
  {
   "cell_type": "code",
   "execution_count": 2,
   "metadata": {},
   "outputs": [],
   "source": [
    "import time"
   ]
  },
  {
   "cell_type": "code",
   "execution_count": 5,
   "metadata": {},
   "outputs": [],
   "source": [
    "# 카운트 다운\n",
    "def countDown(n):\n",
    "    if n == 0:\n",
    "        print('발사')\n",
    "    else:\n",
    "        print(n)\n",
    "        time.sleep(1)\n",
    "        countDown(n-1)"
   ]
  },
  {
   "cell_type": "code",
   "execution_count": 6,
   "metadata": {},
   "outputs": [
    {
     "name": "stdout",
     "output_type": "stream",
     "text": [
      "10\n",
      "9\n",
      "8\n",
      "7\n",
      "6\n",
      "5\n",
      "4\n",
      "3\n",
      "2\n",
      "1\n",
      "발사\n"
     ]
    }
   ],
   "source": [
    "countDown(10)"
   ]
  },
  {
   "cell_type": "code",
   "execution_count": 9,
   "metadata": {},
   "outputs": [],
   "source": [
    "## 별찍기\n",
    "def printStar(n):\n",
    "    if n > 0:\n",
    "        print('*' * n)\n",
    "        printStar(n-1)"
   ]
  },
  {
   "cell_type": "code",
   "execution_count": 10,
   "metadata": {},
   "outputs": [
    {
     "name": "stdout",
     "output_type": "stream",
     "text": [
      "*****\n",
      "****\n",
      "***\n",
      "**\n",
      "*\n"
     ]
    }
   ],
   "source": [
    "printStar(5)"
   ]
  },
  {
   "cell_type": "code",
   "execution_count": 20,
   "metadata": {},
   "outputs": [],
   "source": [
    "## 구구단\n",
    "\n",
    "def gugudan(dan, num):\n",
    "    print(f'{dan:2d} X {num:2d} = {dan*num:02d}',end='\\t')\n",
    "    if num < 9:\n",
    "        gugudan(dan, num+1)"
   ]
  },
  {
   "cell_type": "code",
   "execution_count": 21,
   "metadata": {},
   "outputs": [
    {
     "name": "stdout",
     "output_type": "stream",
     "text": [
      "\n",
      "2단\n",
      " 2 X  1 = 02\t 2 X  2 = 04\t 2 X  3 = 06\t 2 X  4 = 08\t 2 X  5 = 10\t 2 X  6 = 12\t 2 X  7 = 14\t 2 X  8 = 16\t 2 X  9 = 18\t\n",
      "3단\n",
      " 3 X  1 = 03\t 3 X  2 = 06\t 3 X  3 = 09\t 3 X  4 = 12\t 3 X  5 = 15\t 3 X  6 = 18\t 3 X  7 = 21\t 3 X  8 = 24\t 3 X  9 = 27\t\n",
      "4단\n",
      " 4 X  1 = 04\t 4 X  2 = 08\t 4 X  3 = 12\t 4 X  4 = 16\t 4 X  5 = 20\t 4 X  6 = 24\t 4 X  7 = 28\t 4 X  8 = 32\t 4 X  9 = 36\t\n",
      "5단\n",
      " 5 X  1 = 05\t 5 X  2 = 10\t 5 X  3 = 15\t 5 X  4 = 20\t 5 X  5 = 25\t 5 X  6 = 30\t 5 X  7 = 35\t 5 X  8 = 40\t 5 X  9 = 45\t\n",
      "6단\n",
      " 6 X  1 = 06\t 6 X  2 = 12\t 6 X  3 = 18\t 6 X  4 = 24\t 6 X  5 = 30\t 6 X  6 = 36\t 6 X  7 = 42\t 6 X  8 = 48\t 6 X  9 = 54\t\n",
      "7단\n",
      " 7 X  1 = 07\t 7 X  2 = 14\t 7 X  3 = 21\t 7 X  4 = 28\t 7 X  5 = 35\t 7 X  6 = 42\t 7 X  7 = 49\t 7 X  8 = 56\t 7 X  9 = 63\t\n",
      "8단\n",
      " 8 X  1 = 08\t 8 X  2 = 16\t 8 X  3 = 24\t 8 X  4 = 32\t 8 X  5 = 40\t 8 X  6 = 48\t 8 X  7 = 56\t 8 X  8 = 64\t 8 X  9 = 72\t\n",
      "9단\n",
      " 9 X  1 = 09\t 9 X  2 = 18\t 9 X  3 = 27\t 9 X  4 = 36\t 9 X  5 = 45\t 9 X  6 = 54\t 9 X  7 = 63\t 9 X  8 = 72\t 9 X  9 = 81\t"
     ]
    }
   ],
   "source": [
    "for dan in range(2,10):\n",
    "    print(f'\\n{dan}단')\n",
    "    gugudan(dan,1)"
   ]
  },
  {
   "cell_type": "code",
   "execution_count": 26,
   "metadata": {},
   "outputs": [],
   "source": [
    "## 피보나치 f(n) = f(n-1) + f(n-2)\n",
    "def fibo(n):\n",
    "    if n == 0:return 0\n",
    "    elif n == 1:return 1\n",
    "    else:\n",
    "        return fibo(n-1) + fibo(n-2) # 재귀호출을 안쓰면 for문 써야함. 재귀호출을 쓰면 수식이 간단"
   ]
  },
  {
   "cell_type": "code",
   "execution_count": 27,
   "metadata": {},
   "outputs": [
    {
     "name": "stdout",
     "output_type": "stream",
     "text": [
      "피보나치\n",
      "1/1/2/3/5/8/13/21/34/55/"
     ]
    }
   ],
   "source": [
    "print('피보나치')\n",
    "for i in range(1,11):\n",
    "    print(f'{fibo(i)}',end='/')"
   ]
  },
  {
   "cell_type": "code",
   "execution_count": 34,
   "metadata": {},
   "outputs": [],
   "source": [
    "def fiboNoRecv(n):\n",
    "    a, b, seqN = 0, 1, 1\n",
    "        \n",
    "    while seqN < n: # n항이 될때까지\n",
    "        lastB = b # 이전값을 별도의 변수에 저장\n",
    "        b += a # b에 a를 더함\n",
    "        a = lastB # a를 변화되기 전 b값으로 변경\n",
    "        seqN += 1 # 다음할 처리준비\n",
    "    return b # b는 n항의 값"
   ]
  },
  {
   "cell_type": "code",
   "execution_count": 35,
   "metadata": {},
   "outputs": [
    {
     "name": "stdout",
     "output_type": "stream",
     "text": [
      "반복 피보나치\n",
      "1/1/2/3/5/8/13/21/34/55/89/144/233/377/610/987/1597/2584/4181/"
     ]
    }
   ],
   "source": [
    "print('반복 피보나치')\n",
    "for i in range(1,20):\n",
    "    print(f'{fiboNoRecv(i)}',end='/')"
   ]
  }
 ],
 "metadata": {
  "kernelspec": {
   "display_name": "Python 3",
   "language": "python",
   "name": "python3"
  },
  "language_info": {
   "codemirror_mode": {
    "name": "ipython",
    "version": 3
   },
   "file_extension": ".py",
   "mimetype": "text/x-python",
   "name": "python",
   "nbconvert_exporter": "python",
   "pygments_lexer": "ipython3",
   "version": "3.11.5"
  }
 },
 "nbformat": 4,
 "nbformat_minor": 2
}
